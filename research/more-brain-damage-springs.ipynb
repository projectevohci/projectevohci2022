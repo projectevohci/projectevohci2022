{
 "cells": [
  {
   "cell_type": "markdown",
   "metadata": {},
   "source": [
    "What the fuck now there is such thing as springs in series and parallel  \n",
    "really nigga?  \n",
    "\n",
    "![spring in parallel](SpringsInParallel.svg)  \n",
    "Spring In parallel  \n",
    "\n",
    "![spring in series](SpringsInSeries.svg)  \n",
    "Spring In series  \n",
    "  \n",
    "Since there would be one spring on each side of the robot, the spring arrangement would be in parallel  \n",
    "  \n",
    "https://en.wikipedia.org/wiki/Series_and_parallel_springs  \n",
    "  \n",
    "My monkey brain cannot take so much shit  \n",
    "\n",
    "![](homer-monkey.gif)"
   ]
  }
 ],
 "metadata": {
  "interpreter": {
   "hash": "5fa727850ed3ba0524d192c1606b6ef5c187eaf7a0b5760d2e67505bc8dd81a3"
  },
  "kernelspec": {
   "display_name": "Python 3.10.0 64-bit ('Main': conda)",
   "language": "python",
   "name": "python3"
  },
  "language_info": {
   "name": "python",
   "version": "3.10.0"
  },
  "orig_nbformat": 4
 },
 "nbformat": 4,
 "nbformat_minor": 2
}
